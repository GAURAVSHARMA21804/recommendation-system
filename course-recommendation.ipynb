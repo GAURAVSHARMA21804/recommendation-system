{
 "cells": [
  {
   "cell_type": "code",
   "execution_count": 22,
   "id": "6269209b-c382-4aaf-bac8-36f939113b74",
   "metadata": {},
   "outputs": [],
   "source": [
    "import numpy as np\n",
    "import pandas as pd"
   ]
  },
  {
   "cell_type": "code",
   "execution_count": 23,
   "id": "3171138c-f894-4147-aea0-db5324ae529e",
   "metadata": {},
   "outputs": [],
   "source": [
    "course=pd.read_csv('Coursera.csv')"
   ]
  },
  {
   "cell_type": "code",
   "execution_count": 24,
   "id": "500a3aab-cecd-409f-9568-21dddda64cc9",
   "metadata": {},
   "outputs": [
    {
     "data": {
      "text/plain": [
       "'https://www.coursera.org/learn/canvas-analysis-miro'"
      ]
     },
     "execution_count": 24,
     "metadata": {},
     "output_type": "execute_result"
    }
   ],
   "source": [
    "course['Course URL'][1]"
   ]
  },
  {
   "cell_type": "code",
   "execution_count": 25,
   "id": "82c8e664-f2a6-48f0-a562-a38f67432428",
   "metadata": {},
   "outputs": [
    {
     "name": "stdout",
     "output_type": "stream",
     "text": [
      "(3522, 7)\n"
     ]
    }
   ],
   "source": [
    "print(course.shape)"
   ]
  },
  {
   "cell_type": "code",
   "execution_count": 32,
   "id": "1a4440c6-5488-4395-ac41-591496c0a607",
   "metadata": {},
   "outputs": [
    {
     "data": {
      "text/plain": [
       "Course Name           0\n",
       "University            0\n",
       "Difficulty Level      0\n",
       "Course Rating         0\n",
       "Course URL            0\n",
       "Course Description    0\n",
       "Skills                0\n",
       "dtype: int64"
      ]
     },
     "execution_count": 32,
     "metadata": {},
     "output_type": "execute_result"
    }
   ],
   "source": [
    "course.isnull().sum()"
   ]
  },
  {
   "cell_type": "markdown",
   "id": "c6c9536a-7588-429a-bce4-8dfa0e5a0d62",
   "metadata": {},
   "source": [
    "# popularity base"
   ]
  },
  {
   "cell_type": "code",
   "execution_count": 33,
   "id": "f878303d-13f9-408c-bb8b-8601ddf017df",
   "metadata": {},
   "outputs": [
    {
     "data": {
      "text/html": [
       "<div>\n",
       "<style scoped>\n",
       "    .dataframe tbody tr th:only-of-type {\n",
       "        vertical-align: middle;\n",
       "    }\n",
       "\n",
       "    .dataframe tbody tr th {\n",
       "        vertical-align: top;\n",
       "    }\n",
       "\n",
       "    .dataframe thead th {\n",
       "        text-align: right;\n",
       "    }\n",
       "</style>\n",
       "<table border=\"1\" class=\"dataframe\">\n",
       "  <thead>\n",
       "    <tr style=\"text-align: right;\">\n",
       "      <th></th>\n",
       "      <th>Course Name</th>\n",
       "      <th>num_ratings</th>\n",
       "    </tr>\n",
       "  </thead>\n",
       "  <tbody>\n",
       "    <tr>\n",
       "      <th>0</th>\n",
       "      <td>\"Making\" Progress Teach-Out</td>\n",
       "      <td>1</td>\n",
       "    </tr>\n",
       "    <tr>\n",
       "      <th>1</th>\n",
       "      <td>(Non) Status quo Attitudes with NetLogo</td>\n",
       "      <td>1</td>\n",
       "    </tr>\n",
       "    <tr>\n",
       "      <th>2</th>\n",
       "      <td>1E Test: How Computers Work</td>\n",
       "      <td>1</td>\n",
       "    </tr>\n",
       "    <tr>\n",
       "      <th>3</th>\n",
       "      <td>3-Axis Machining with Autodesk Fusion 360</td>\n",
       "      <td>1</td>\n",
       "    </tr>\n",
       "    <tr>\n",
       "      <th>4</th>\n",
       "      <td>3D Art and Audio Pipeline</td>\n",
       "      <td>1</td>\n",
       "    </tr>\n",
       "    <tr>\n",
       "      <th>...</th>\n",
       "      <td>...</td>\n",
       "      <td>...</td>\n",
       "    </tr>\n",
       "    <tr>\n",
       "      <th>3411</th>\n",
       "      <td>iOS App Development Basics</td>\n",
       "      <td>1</td>\n",
       "    </tr>\n",
       "    <tr>\n",
       "      <th>3412</th>\n",
       "      <td>iOS App Store &amp; In-App Purchases</td>\n",
       "      <td>1</td>\n",
       "    </tr>\n",
       "    <tr>\n",
       "      <th>3413</th>\n",
       "      <td>iOS Project: Transreality Game</td>\n",
       "      <td>1</td>\n",
       "    </tr>\n",
       "    <tr>\n",
       "      <th>3414</th>\n",
       "      <td>iPad Music Player in XD</td>\n",
       "      <td>1</td>\n",
       "    </tr>\n",
       "    <tr>\n",
       "      <th>3415</th>\n",
       "      <td>idea 2 IMPACT: An Introduction to Translating ...</td>\n",
       "      <td>1</td>\n",
       "    </tr>\n",
       "  </tbody>\n",
       "</table>\n",
       "<p>3416 rows × 2 columns</p>\n",
       "</div>"
      ],
      "text/plain": [
       "                                            Course Name  num_ratings\n",
       "0                           \"Making\" Progress Teach-Out            1\n",
       "1               (Non) Status quo Attitudes with NetLogo            1\n",
       "2                           1E Test: How Computers Work            1\n",
       "3             3-Axis Machining with Autodesk Fusion 360            1\n",
       "4                             3D Art and Audio Pipeline            1\n",
       "...                                                 ...          ...\n",
       "3411                         iOS App Development Basics            1\n",
       "3412                   iOS App Store & In-App Purchases            1\n",
       "3413                     iOS Project: Transreality Game            1\n",
       "3414                            iPad Music Player in XD            1\n",
       "3415  idea 2 IMPACT: An Introduction to Translating ...            1\n",
       "\n",
       "[3416 rows x 2 columns]"
      ]
     },
     "execution_count": 33,
     "metadata": {},
     "output_type": "execute_result"
    }
   ],
   "source": [
    "num_rating_df=course.groupby('Course Name').count()['Course Rating'].reset_index()\n",
    "num_rating_df.rename(columns={'Course Rating':'num_ratings'},inplace=True)\n",
    "num_rating_df"
   ]
  },
  {
   "cell_type": "code",
   "execution_count": 34,
   "id": "5e7e7346-09c6-4fb3-a3f2-34daba9351f1",
   "metadata": {},
   "outputs": [],
   "source": [
    "couse_pop_df=num_rating_df.sort_values('num_ratings',ascending=False).head(1000)"
   ]
  },
  {
   "cell_type": "code",
   "execution_count": 35,
   "id": "ccf12e7a-5a94-4f5b-ae86-ff6885aff230",
   "metadata": {},
   "outputs": [],
   "source": [
    "course_pop_df=couse_pop_df.merge(course,on='Course Name').drop_duplicates('Course Name')[['Course Name','University','Course URL','num_ratings']]"
   ]
  },
  {
   "cell_type": "code",
   "execution_count": 36,
   "id": "b94a1633-6721-4770-a4e8-9879659616da",
   "metadata": {},
   "outputs": [
    {
     "data": {
      "text/plain": [
       "'https://www.coursera.org/learn/gcp-fundamentals'"
      ]
     },
     "execution_count": 36,
     "metadata": {},
     "output_type": "execute_result"
    }
   ],
   "source": [
    "course_pop_df['Course URL'][0]"
   ]
  },
  {
   "cell_type": "code",
   "execution_count": 37,
   "id": "40c8c865-0f10-4330-8e64-ae5374db4288",
   "metadata": {},
   "outputs": [],
   "source": [
    "import pickle\n",
    "pickle.dump(course_pop_df,open('course.pkl','wb'))"
   ]
  },
  {
   "cell_type": "markdown",
   "id": "b2cd2772-a61c-4e22-8411-3296308100b8",
   "metadata": {},
   "source": [
    "## Collaborative Filtering\n"
   ]
  },
  {
   "cell_type": "code",
   "execution_count": null,
   "id": "8a34c415-17a9-476d-94b5-81c49fbfb7c8",
   "metadata": {},
   "outputs": [],
   "source": []
  }
 ],
 "metadata": {
  "kernelspec": {
   "display_name": "Python 3 (ipykernel)",
   "language": "python",
   "name": "python3"
  },
  "language_info": {
   "codemirror_mode": {
    "name": "ipython",
    "version": 3
   },
   "file_extension": ".py",
   "mimetype": "text/x-python",
   "name": "python",
   "nbconvert_exporter": "python",
   "pygments_lexer": "ipython3",
   "version": "3.9.12"
  }
 },
 "nbformat": 4,
 "nbformat_minor": 5
}
